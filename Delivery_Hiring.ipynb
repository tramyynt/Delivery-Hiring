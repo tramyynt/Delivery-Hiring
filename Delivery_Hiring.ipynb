{
  "nbformat": 4,
  "nbformat_minor": 0,
  "metadata": {
    "colab": {
      "name": "Delivery Hiring.ipynb",
      "provenance": [],
      "collapsed_sections": [],
      "mount_file_id": "1V3x0uD5402bnUXq3SU2ZKNNfdL41Kax-",
      "authorship_tag": "ABX9TyPl8peTZGuCph3q4dUru12A",
      "include_colab_link": true
    },
    "kernelspec": {
      "name": "python3",
      "display_name": "Python 3"
    },
    "language_info": {
      "name": "python"
    }
  },
  "cells": [
    {
      "cell_type": "markdown",
      "metadata": {
        "id": "view-in-github",
        "colab_type": "text"
      },
      "source": [
        "<a href=\"https://colab.research.google.com/github/tramyynt/Delivery-Hiring/blob/main/Delivery_Hiring.ipynb\" target=\"_parent\"><img src=\"https://colab.research.google.com/assets/colab-badge.svg\" alt=\"Open In Colab\"/></a>"
      ]
    },
    {
      "cell_type": "code",
      "source": [
        "from google.colab import drive\n",
        "drive.mount('/content/drive')"
      ],
      "metadata": {
        "colab": {
          "base_uri": "https://localhost:8080/"
        },
        "id": "AMRzJHN9oiIZ",
        "outputId": "ee7c813f-063b-44dd-e90d-ba9432188958"
      },
      "execution_count": 5,
      "outputs": [
        {
          "output_type": "stream",
          "name": "stdout",
          "text": [
            "Drive already mounted at /content/drive; to attempt to forcibly remount, call drive.mount(\"/content/drive\", force_remount=True).\n"
          ]
        }
      ]
    },
    {
      "cell_type": "code",
      "source": [
        "import pandas as pd\n",
        "import numpy as np\n",
        "from datetime import date, datetime\n",
        "import numpy as np\n",
        "import calendar\n",
        "\n",
        "import seaborn as sns\n",
        "import matplotlib.pyplot as plt\n",
        "import plotly.graph_objs as go\n",
        "import plotly.express as px\n",
        "\n",
        "import sklearn\n",
        "from sklearn.linear_model import Ridge\n",
        "from sklearn.ensemble import RandomForestRegressor\n",
        "from sklearn.tree import DecisionTreeRegressor\n",
        "from sklearn.linear_model import LinearRegression\n",
        "from sklearn.linear_model import Ridge\n",
        "\n",
        "from sklearn.model_selection import train_test_split\n",
        "from sklearn.model_selection import KFold,cross_val_score\n",
        "\n",
        "from sklearn.metrics import r2_score\n",
        "import sklearn.metrics as metrics"
      ],
      "metadata": {
        "id": "IqAjLhGVoqNG"
      },
      "execution_count": 72,
      "outputs": []
    },
    {
      "cell_type": "markdown",
      "source": [
        "Data Cleaning and Preprocessing"
      ],
      "metadata": {
        "id": "gB3jdoqlWMca"
      }
    },
    {
      "cell_type": "code",
      "source": [
        "order = pd.read_csv('/content/drive/MyDrive/Deliveroo Hiring - Test for Machine Learning Engineering/orders.csv.gz (Unzipped Files)/orders.csv')\n",
        "restaurant = pd.read_csv('/content/drive/MyDrive/Deliveroo Hiring - Test for Machine Learning Engineering/restaurants.csv.gz (Unzipped Files)/restaurants.csv')"
      ],
      "metadata": {
        "id": "EGE87IJCvyTb"
      },
      "execution_count": 7,
      "outputs": []
    },
    {
      "cell_type": "code",
      "source": [
        "order.head(5)"
      ],
      "metadata": {
        "colab": {
          "base_uri": "https://localhost:8080/",
          "height": 206
        },
        "id": "cuDh2D7zv_H5",
        "outputId": "44b062ed-7c8f-4dd6-808f-e810faa8a834"
      },
      "execution_count": 4,
      "outputs": [
        {
          "output_type": "execute_result",
          "data": {
            "text/html": [
              "\n",
              "  <div id=\"df-56e4b94a-4cf9-4e0d-82eb-e84e47561a93\">\n",
              "    <div class=\"colab-df-container\">\n",
              "      <div>\n",
              "<style scoped>\n",
              "    .dataframe tbody tr th:only-of-type {\n",
              "        vertical-align: middle;\n",
              "    }\n",
              "\n",
              "    .dataframe tbody tr th {\n",
              "        vertical-align: top;\n",
              "    }\n",
              "\n",
              "    .dataframe thead th {\n",
              "        text-align: right;\n",
              "    }\n",
              "</style>\n",
              "<table border=\"1\" class=\"dataframe\">\n",
              "  <thead>\n",
              "    <tr style=\"text-align: right;\">\n",
              "      <th></th>\n",
              "      <th>order_acknowledged_at</th>\n",
              "      <th>order_ready_at</th>\n",
              "      <th>order_value_gbp</th>\n",
              "      <th>restaurant_id</th>\n",
              "      <th>number_of_items</th>\n",
              "      <th>prep_time_seconds</th>\n",
              "    </tr>\n",
              "  </thead>\n",
              "  <tbody>\n",
              "    <tr>\n",
              "      <th>0</th>\n",
              "      <td>2015-06-01 12:28:28.952789+01:00</td>\n",
              "      <td>2015-06-01 14:12:09.474896+01:00</td>\n",
              "      <td>59.90</td>\n",
              "      <td>1326</td>\n",
              "      <td>2</td>\n",
              "      <td>6220</td>\n",
              "    </tr>\n",
              "    <tr>\n",
              "      <th>1</th>\n",
              "      <td>2015-06-06 17:06:24.434807+01:00</td>\n",
              "      <td>2015-06-06 17:16:27.520253+01:00</td>\n",
              "      <td>24.00</td>\n",
              "      <td>1326</td>\n",
              "      <td>8</td>\n",
              "      <td>603</td>\n",
              "    </tr>\n",
              "    <tr>\n",
              "      <th>2</th>\n",
              "      <td>2015-06-08 14:56:15.503204+01:00</td>\n",
              "      <td>2015-06-08 15:03:39.397496+01:00</td>\n",
              "      <td>15.25</td>\n",
              "      <td>1326</td>\n",
              "      <td>3</td>\n",
              "      <td>443</td>\n",
              "    </tr>\n",
              "    <tr>\n",
              "      <th>3</th>\n",
              "      <td>2015-06-12 15:12:20.497925+01:00</td>\n",
              "      <td>2015-06-12 15:23:30.064683+01:00</td>\n",
              "      <td>28.05</td>\n",
              "      <td>1326</td>\n",
              "      <td>8</td>\n",
              "      <td>669</td>\n",
              "    </tr>\n",
              "    <tr>\n",
              "      <th>4</th>\n",
              "      <td>2015-06-01 13:07:10.794050+01:00</td>\n",
              "      <td>2015-06-01 14:02:25.104517+01:00</td>\n",
              "      <td>56.30</td>\n",
              "      <td>255</td>\n",
              "      <td>7</td>\n",
              "      <td>3314</td>\n",
              "    </tr>\n",
              "  </tbody>\n",
              "</table>\n",
              "</div>\n",
              "      <button class=\"colab-df-convert\" onclick=\"convertToInteractive('df-56e4b94a-4cf9-4e0d-82eb-e84e47561a93')\"\n",
              "              title=\"Convert this dataframe to an interactive table.\"\n",
              "              style=\"display:none;\">\n",
              "        \n",
              "  <svg xmlns=\"http://www.w3.org/2000/svg\" height=\"24px\"viewBox=\"0 0 24 24\"\n",
              "       width=\"24px\">\n",
              "    <path d=\"M0 0h24v24H0V0z\" fill=\"none\"/>\n",
              "    <path d=\"M18.56 5.44l.94 2.06.94-2.06 2.06-.94-2.06-.94-.94-2.06-.94 2.06-2.06.94zm-11 1L8.5 8.5l.94-2.06 2.06-.94-2.06-.94L8.5 2.5l-.94 2.06-2.06.94zm10 10l.94 2.06.94-2.06 2.06-.94-2.06-.94-.94-2.06-.94 2.06-2.06.94z\"/><path d=\"M17.41 7.96l-1.37-1.37c-.4-.4-.92-.59-1.43-.59-.52 0-1.04.2-1.43.59L10.3 9.45l-7.72 7.72c-.78.78-.78 2.05 0 2.83L4 21.41c.39.39.9.59 1.41.59.51 0 1.02-.2 1.41-.59l7.78-7.78 2.81-2.81c.8-.78.8-2.07 0-2.86zM5.41 20L4 18.59l7.72-7.72 1.47 1.35L5.41 20z\"/>\n",
              "  </svg>\n",
              "      </button>\n",
              "      \n",
              "  <style>\n",
              "    .colab-df-container {\n",
              "      display:flex;\n",
              "      flex-wrap:wrap;\n",
              "      gap: 12px;\n",
              "    }\n",
              "\n",
              "    .colab-df-convert {\n",
              "      background-color: #E8F0FE;\n",
              "      border: none;\n",
              "      border-radius: 50%;\n",
              "      cursor: pointer;\n",
              "      display: none;\n",
              "      fill: #1967D2;\n",
              "      height: 32px;\n",
              "      padding: 0 0 0 0;\n",
              "      width: 32px;\n",
              "    }\n",
              "\n",
              "    .colab-df-convert:hover {\n",
              "      background-color: #E2EBFA;\n",
              "      box-shadow: 0px 1px 2px rgba(60, 64, 67, 0.3), 0px 1px 3px 1px rgba(60, 64, 67, 0.15);\n",
              "      fill: #174EA6;\n",
              "    }\n",
              "\n",
              "    [theme=dark] .colab-df-convert {\n",
              "      background-color: #3B4455;\n",
              "      fill: #D2E3FC;\n",
              "    }\n",
              "\n",
              "    [theme=dark] .colab-df-convert:hover {\n",
              "      background-color: #434B5C;\n",
              "      box-shadow: 0px 1px 3px 1px rgba(0, 0, 0, 0.15);\n",
              "      filter: drop-shadow(0px 1px 2px rgba(0, 0, 0, 0.3));\n",
              "      fill: #FFFFFF;\n",
              "    }\n",
              "  </style>\n",
              "\n",
              "      <script>\n",
              "        const buttonEl =\n",
              "          document.querySelector('#df-56e4b94a-4cf9-4e0d-82eb-e84e47561a93 button.colab-df-convert');\n",
              "        buttonEl.style.display =\n",
              "          google.colab.kernel.accessAllowed ? 'block' : 'none';\n",
              "\n",
              "        async function convertToInteractive(key) {\n",
              "          const element = document.querySelector('#df-56e4b94a-4cf9-4e0d-82eb-e84e47561a93');\n",
              "          const dataTable =\n",
              "            await google.colab.kernel.invokeFunction('convertToInteractive',\n",
              "                                                     [key], {});\n",
              "          if (!dataTable) return;\n",
              "\n",
              "          const docLinkHtml = 'Like what you see? Visit the ' +\n",
              "            '<a target=\"_blank\" href=https://colab.research.google.com/notebooks/data_table.ipynb>data table notebook</a>'\n",
              "            + ' to learn more about interactive tables.';\n",
              "          element.innerHTML = '';\n",
              "          dataTable['output_type'] = 'display_data';\n",
              "          await google.colab.output.renderOutput(dataTable, element);\n",
              "          const docLink = document.createElement('div');\n",
              "          docLink.innerHTML = docLinkHtml;\n",
              "          element.appendChild(docLink);\n",
              "        }\n",
              "      </script>\n",
              "    </div>\n",
              "  </div>\n",
              "  "
            ],
            "text/plain": [
              "              order_acknowledged_at  ... prep_time_seconds\n",
              "0  2015-06-01 12:28:28.952789+01:00  ...              6220\n",
              "1  2015-06-06 17:06:24.434807+01:00  ...               603\n",
              "2  2015-06-08 14:56:15.503204+01:00  ...               443\n",
              "3  2015-06-12 15:12:20.497925+01:00  ...               669\n",
              "4  2015-06-01 13:07:10.794050+01:00  ...              3314\n",
              "\n",
              "[5 rows x 6 columns]"
            ]
          },
          "metadata": {},
          "execution_count": 4
        }
      ]
    },
    {
      "cell_type": "code",
      "source": [
        "order.info()"
      ],
      "metadata": {
        "colab": {
          "base_uri": "https://localhost:8080/"
        },
        "id": "3v_pCoPzWlNo",
        "outputId": "2f0c35c3-5f4d-4a00-bba2-fb0ea284ab4c"
      },
      "execution_count": 5,
      "outputs": [
        {
          "output_type": "stream",
          "name": "stdout",
          "text": [
            "<class 'pandas.core.frame.DataFrame'>\n",
            "RangeIndex: 32394 entries, 0 to 32393\n",
            "Data columns (total 6 columns):\n",
            " #   Column                 Non-Null Count  Dtype  \n",
            "---  ------                 --------------  -----  \n",
            " 0   order_acknowledged_at  32394 non-null  object \n",
            " 1   order_ready_at         32394 non-null  object \n",
            " 2   order_value_gbp        32394 non-null  float64\n",
            " 3   restaurant_id          32394 non-null  int64  \n",
            " 4   number_of_items        32394 non-null  int64  \n",
            " 5   prep_time_seconds      32394 non-null  int64  \n",
            "dtypes: float64(1), int64(3), object(2)\n",
            "memory usage: 1.5+ MB\n"
          ]
        }
      ]
    },
    {
      "cell_type": "code",
      "source": [
        "order.isnull().sum()"
      ],
      "metadata": {
        "colab": {
          "base_uri": "https://localhost:8080/"
        },
        "id": "8xHSx3oOxrxO",
        "outputId": "5cc7a88b-5567-41ab-8d3b-f5124d355948"
      },
      "execution_count": 6,
      "outputs": [
        {
          "output_type": "execute_result",
          "data": {
            "text/plain": [
              "order_acknowledged_at    0\n",
              "order_ready_at           0\n",
              "order_value_gbp          0\n",
              "restaurant_id            0\n",
              "number_of_items          0\n",
              "prep_time_seconds        0\n",
              "dtype: int64"
            ]
          },
          "metadata": {},
          "execution_count": 6
        }
      ]
    },
    {
      "cell_type": "code",
      "source": [
        "restaurant.isnull().sum()"
      ],
      "metadata": {
        "colab": {
          "base_uri": "https://localhost:8080/"
        },
        "id": "mobliMGd3TFA",
        "outputId": "80a051ea-b720-4a93-da34-6e9b6da54218"
      },
      "execution_count": 7,
      "outputs": [
        {
          "output_type": "execute_result",
          "data": {
            "text/plain": [
              "restaurant_id    0\n",
              "country          0\n",
              "city             0\n",
              "type_of_food     0\n",
              "dtype: int64"
            ]
          },
          "metadata": {},
          "execution_count": 7
        }
      ]
    },
    {
      "cell_type": "code",
      "source": [
        "restaurant.info()"
      ],
      "metadata": {
        "colab": {
          "base_uri": "https://localhost:8080/"
        },
        "id": "IcY8CAOfpsTD",
        "outputId": "3e44381a-2894-4b5f-cf2e-782162e57c41"
      },
      "execution_count": 8,
      "outputs": [
        {
          "output_type": "stream",
          "name": "stdout",
          "text": [
            "<class 'pandas.core.frame.DataFrame'>\n",
            "RangeIndex: 1697 entries, 0 to 1696\n",
            "Data columns (total 4 columns):\n",
            " #   Column         Non-Null Count  Dtype \n",
            "---  ------         --------------  ----- \n",
            " 0   restaurant_id  1697 non-null   int64 \n",
            " 1   country        1697 non-null   object\n",
            " 2   city           1697 non-null   object\n",
            " 3   type_of_food   1697 non-null   object\n",
            "dtypes: int64(1), object(3)\n",
            "memory usage: 53.2+ KB\n"
          ]
        }
      ]
    },
    {
      "cell_type": "code",
      "source": [
        "#check if restaurant is primary key\n",
        "print(restaurant['restaurant_id'].nunique())\n",
        "print(order['restaurant_id'].nunique())"
      ],
      "metadata": {
        "colab": {
          "base_uri": "https://localhost:8080/"
        },
        "id": "lx1WGfv9oGyr",
        "outputId": "3f748f56-de49-45de-f734-1cbcb544deb1"
      },
      "execution_count": 62,
      "outputs": [
        {
          "output_type": "stream",
          "name": "stdout",
          "text": [
            "1697\n",
            "1697\n"
          ]
        }
      ]
    },
    {
      "cell_type": "code",
      "source": [
        "#merge two dataframes into df dataset\n",
        "order = pd.merge(order, restaurant, on='restaurant_id')"
      ],
      "metadata": {
        "id": "a50uhKRCowN6"
      },
      "execution_count": 8,
      "outputs": []
    },
    {
      "cell_type": "code",
      "source": [
        "#convert object to datetime type\n",
        "order['order_acknowledged_at']=pd.to_datetime(order['order_acknowledged_at'], utc=True,format='%Y-%m-%d %H:%M:%S')\n",
        "order['order_ready_at'] = pd.to_datetime(order['order_ready_at'], utc= True,format='%Y-%m-%d %H:%M:%S')"
      ],
      "metadata": {
        "id": "oBD18MkHm8bz"
      },
      "execution_count": 9,
      "outputs": []
    },
    {
      "cell_type": "code",
      "source": [
        "#sort order by acknowledged time\n",
        "order = order.sort_values(by = 'order_acknowledged_at')\n",
        "order.reset_index(inplace= True)\n",
        "order.drop(columns = 'index')"
      ],
      "metadata": {
        "colab": {
          "base_uri": "https://localhost:8080/",
          "height": 424
        },
        "id": "BPhErpzJl5z4",
        "outputId": "cb67c070-5415-497f-99c3-606e17484308"
      },
      "execution_count": 10,
      "outputs": [
        {
          "output_type": "execute_result",
          "data": {
            "text/html": [
              "\n",
              "  <div id=\"df-68bb099e-5efa-4e53-9548-d16c9e96b289\">\n",
              "    <div class=\"colab-df-container\">\n",
              "      <div>\n",
              "<style scoped>\n",
              "    .dataframe tbody tr th:only-of-type {\n",
              "        vertical-align: middle;\n",
              "    }\n",
              "\n",
              "    .dataframe tbody tr th {\n",
              "        vertical-align: top;\n",
              "    }\n",
              "\n",
              "    .dataframe thead th {\n",
              "        text-align: right;\n",
              "    }\n",
              "</style>\n",
              "<table border=\"1\" class=\"dataframe\">\n",
              "  <thead>\n",
              "    <tr style=\"text-align: right;\">\n",
              "      <th></th>\n",
              "      <th>order_acknowledged_at</th>\n",
              "      <th>order_ready_at</th>\n",
              "      <th>order_value_gbp</th>\n",
              "      <th>restaurant_id</th>\n",
              "      <th>number_of_items</th>\n",
              "      <th>prep_time_seconds</th>\n",
              "      <th>country</th>\n",
              "      <th>city</th>\n",
              "      <th>type_of_food</th>\n",
              "    </tr>\n",
              "  </thead>\n",
              "  <tbody>\n",
              "    <tr>\n",
              "      <th>0</th>\n",
              "      <td>2015-06-01 09:34:00.351812+00:00</td>\n",
              "      <td>2015-06-01 13:02:30.351682+00:00</td>\n",
              "      <td>15.10</td>\n",
              "      <td>2276</td>\n",
              "      <td>3</td>\n",
              "      <td>12509</td>\n",
              "      <td>UK</td>\n",
              "      <td>London</td>\n",
              "      <td>healthy</td>\n",
              "    </tr>\n",
              "    <tr>\n",
              "      <th>1</th>\n",
              "      <td>2015-06-01 10:22:56.328104+00:00</td>\n",
              "      <td>2015-06-01 12:23:57.316309+00:00</td>\n",
              "      <td>36.00</td>\n",
              "      <td>2276</td>\n",
              "      <td>4</td>\n",
              "      <td>7260</td>\n",
              "      <td>UK</td>\n",
              "      <td>London</td>\n",
              "      <td>healthy</td>\n",
              "    </tr>\n",
              "    <tr>\n",
              "      <th>2</th>\n",
              "      <td>2015-06-01 10:39:44.491932+00:00</td>\n",
              "      <td>2015-06-01 12:31:32.205864+00:00</td>\n",
              "      <td>48.00</td>\n",
              "      <td>604</td>\n",
              "      <td>1</td>\n",
              "      <td>6707</td>\n",
              "      <td>UK</td>\n",
              "      <td>London</td>\n",
              "      <td>american</td>\n",
              "    </tr>\n",
              "    <tr>\n",
              "      <th>3</th>\n",
              "      <td>2015-06-01 10:50:44.072478+00:00</td>\n",
              "      <td>2015-06-01 12:24:36.777383+00:00</td>\n",
              "      <td>35.45</td>\n",
              "      <td>1518</td>\n",
              "      <td>4</td>\n",
              "      <td>5632</td>\n",
              "      <td>UK</td>\n",
              "      <td>London</td>\n",
              "      <td>healthy</td>\n",
              "    </tr>\n",
              "    <tr>\n",
              "      <th>4</th>\n",
              "      <td>2015-06-01 11:02:23.080222+00:00</td>\n",
              "      <td>2015-06-01 12:48:49.660816+00:00</td>\n",
              "      <td>17.35</td>\n",
              "      <td>666</td>\n",
              "      <td>4</td>\n",
              "      <td>6386</td>\n",
              "      <td>UK</td>\n",
              "      <td>London</td>\n",
              "      <td>dessert</td>\n",
              "    </tr>\n",
              "    <tr>\n",
              "      <th>...</th>\n",
              "      <td>...</td>\n",
              "      <td>...</td>\n",
              "      <td>...</td>\n",
              "      <td>...</td>\n",
              "      <td>...</td>\n",
              "      <td>...</td>\n",
              "      <td>...</td>\n",
              "      <td>...</td>\n",
              "      <td>...</td>\n",
              "    </tr>\n",
              "    <tr>\n",
              "      <th>32389</th>\n",
              "      <td>2015-06-30 22:56:41.726710+00:00</td>\n",
              "      <td>2015-06-30 23:04:35.997701+00:00</td>\n",
              "      <td>13.85</td>\n",
              "      <td>775</td>\n",
              "      <td>3</td>\n",
              "      <td>474</td>\n",
              "      <td>UK</td>\n",
              "      <td>London</td>\n",
              "      <td>burgers</td>\n",
              "    </tr>\n",
              "    <tr>\n",
              "      <th>32390</th>\n",
              "      <td>2015-06-30 22:57:12.656303+00:00</td>\n",
              "      <td>2015-06-30 23:02:31.650475+00:00</td>\n",
              "      <td>20.50</td>\n",
              "      <td>2855</td>\n",
              "      <td>2</td>\n",
              "      <td>318</td>\n",
              "      <td>UK</td>\n",
              "      <td>London</td>\n",
              "      <td>american</td>\n",
              "    </tr>\n",
              "    <tr>\n",
              "      <th>32391</th>\n",
              "      <td>2015-06-30 22:59:46.852778+00:00</td>\n",
              "      <td>2015-06-30 23:02:26.589807+00:00</td>\n",
              "      <td>47.80</td>\n",
              "      <td>1475</td>\n",
              "      <td>3</td>\n",
              "      <td>159</td>\n",
              "      <td>UK</td>\n",
              "      <td>London</td>\n",
              "      <td>chinese</td>\n",
              "    </tr>\n",
              "    <tr>\n",
              "      <th>32392</th>\n",
              "      <td>2015-06-30 23:03:12.344312+00:00</td>\n",
              "      <td>2015-06-30 23:11:15.464365+00:00</td>\n",
              "      <td>20.95</td>\n",
              "      <td>2728</td>\n",
              "      <td>5</td>\n",
              "      <td>483</td>\n",
              "      <td>UK</td>\n",
              "      <td>Edinburgh</td>\n",
              "      <td>chicken</td>\n",
              "    </tr>\n",
              "    <tr>\n",
              "      <th>32393</th>\n",
              "      <td>2015-07-01 13:10:34.915211+00:00</td>\n",
              "      <td>2015-07-01 18:51:37.293042+00:00</td>\n",
              "      <td>107.50</td>\n",
              "      <td>811</td>\n",
              "      <td>8</td>\n",
              "      <td>20462</td>\n",
              "      <td>UK</td>\n",
              "      <td>London</td>\n",
              "      <td>italian</td>\n",
              "    </tr>\n",
              "  </tbody>\n",
              "</table>\n",
              "<p>32394 rows × 9 columns</p>\n",
              "</div>\n",
              "      <button class=\"colab-df-convert\" onclick=\"convertToInteractive('df-68bb099e-5efa-4e53-9548-d16c9e96b289')\"\n",
              "              title=\"Convert this dataframe to an interactive table.\"\n",
              "              style=\"display:none;\">\n",
              "        \n",
              "  <svg xmlns=\"http://www.w3.org/2000/svg\" height=\"24px\"viewBox=\"0 0 24 24\"\n",
              "       width=\"24px\">\n",
              "    <path d=\"M0 0h24v24H0V0z\" fill=\"none\"/>\n",
              "    <path d=\"M18.56 5.44l.94 2.06.94-2.06 2.06-.94-2.06-.94-.94-2.06-.94 2.06-2.06.94zm-11 1L8.5 8.5l.94-2.06 2.06-.94-2.06-.94L8.5 2.5l-.94 2.06-2.06.94zm10 10l.94 2.06.94-2.06 2.06-.94-2.06-.94-.94-2.06-.94 2.06-2.06.94z\"/><path d=\"M17.41 7.96l-1.37-1.37c-.4-.4-.92-.59-1.43-.59-.52 0-1.04.2-1.43.59L10.3 9.45l-7.72 7.72c-.78.78-.78 2.05 0 2.83L4 21.41c.39.39.9.59 1.41.59.51 0 1.02-.2 1.41-.59l7.78-7.78 2.81-2.81c.8-.78.8-2.07 0-2.86zM5.41 20L4 18.59l7.72-7.72 1.47 1.35L5.41 20z\"/>\n",
              "  </svg>\n",
              "      </button>\n",
              "      \n",
              "  <style>\n",
              "    .colab-df-container {\n",
              "      display:flex;\n",
              "      flex-wrap:wrap;\n",
              "      gap: 12px;\n",
              "    }\n",
              "\n",
              "    .colab-df-convert {\n",
              "      background-color: #E8F0FE;\n",
              "      border: none;\n",
              "      border-radius: 50%;\n",
              "      cursor: pointer;\n",
              "      display: none;\n",
              "      fill: #1967D2;\n",
              "      height: 32px;\n",
              "      padding: 0 0 0 0;\n",
              "      width: 32px;\n",
              "    }\n",
              "\n",
              "    .colab-df-convert:hover {\n",
              "      background-color: #E2EBFA;\n",
              "      box-shadow: 0px 1px 2px rgba(60, 64, 67, 0.3), 0px 1px 3px 1px rgba(60, 64, 67, 0.15);\n",
              "      fill: #174EA6;\n",
              "    }\n",
              "\n",
              "    [theme=dark] .colab-df-convert {\n",
              "      background-color: #3B4455;\n",
              "      fill: #D2E3FC;\n",
              "    }\n",
              "\n",
              "    [theme=dark] .colab-df-convert:hover {\n",
              "      background-color: #434B5C;\n",
              "      box-shadow: 0px 1px 3px 1px rgba(0, 0, 0, 0.15);\n",
              "      filter: drop-shadow(0px 1px 2px rgba(0, 0, 0, 0.3));\n",
              "      fill: #FFFFFF;\n",
              "    }\n",
              "  </style>\n",
              "\n",
              "      <script>\n",
              "        const buttonEl =\n",
              "          document.querySelector('#df-68bb099e-5efa-4e53-9548-d16c9e96b289 button.colab-df-convert');\n",
              "        buttonEl.style.display =\n",
              "          google.colab.kernel.accessAllowed ? 'block' : 'none';\n",
              "\n",
              "        async function convertToInteractive(key) {\n",
              "          const element = document.querySelector('#df-68bb099e-5efa-4e53-9548-d16c9e96b289');\n",
              "          const dataTable =\n",
              "            await google.colab.kernel.invokeFunction('convertToInteractive',\n",
              "                                                     [key], {});\n",
              "          if (!dataTable) return;\n",
              "\n",
              "          const docLinkHtml = 'Like what you see? Visit the ' +\n",
              "            '<a target=\"_blank\" href=https://colab.research.google.com/notebooks/data_table.ipynb>data table notebook</a>'\n",
              "            + ' to learn more about interactive tables.';\n",
              "          element.innerHTML = '';\n",
              "          dataTable['output_type'] = 'display_data';\n",
              "          await google.colab.output.renderOutput(dataTable, element);\n",
              "          const docLink = document.createElement('div');\n",
              "          docLink.innerHTML = docLinkHtml;\n",
              "          element.appendChild(docLink);\n",
              "        }\n",
              "      </script>\n",
              "    </div>\n",
              "  </div>\n",
              "  "
            ],
            "text/plain": [
              "                 order_acknowledged_at  ... type_of_food\n",
              "0     2015-06-01 09:34:00.351812+00:00  ...      healthy\n",
              "1     2015-06-01 10:22:56.328104+00:00  ...      healthy\n",
              "2     2015-06-01 10:39:44.491932+00:00  ...     american\n",
              "3     2015-06-01 10:50:44.072478+00:00  ...      healthy\n",
              "4     2015-06-01 11:02:23.080222+00:00  ...      dessert\n",
              "...                                ...  ...          ...\n",
              "32389 2015-06-30 22:56:41.726710+00:00  ...      burgers\n",
              "32390 2015-06-30 22:57:12.656303+00:00  ...     american\n",
              "32391 2015-06-30 22:59:46.852778+00:00  ...      chinese\n",
              "32392 2015-06-30 23:03:12.344312+00:00  ...      chicken\n",
              "32393 2015-07-01 13:10:34.915211+00:00  ...      italian\n",
              "\n",
              "[32394 rows x 9 columns]"
            ]
          },
          "metadata": {},
          "execution_count": 10
        }
      ]
    },
    {
      "cell_type": "code",
      "source": [
        "#split date time\n",
        "order['ord_ack_date']= order['order_acknowledged_at'].dt.date\n",
        "order['ord_ready_date'] = order['order_ready_at'].dt.date\n",
        "\n",
        "#get the hour of the order from date time.\n",
        "order['ord_hour']= order['order_acknowledged_at'].dt.hour\n",
        "\n",
        "order['day_number'] = order['order_acknowledged_at'].dt.dayofweek\n",
        "order['order_day'] = order['order_acknowledged_at'].dt.day_name()\n",
        "\n",
        "#order['week_day'] = order['order_acknowledged_at'].apply(lambda x: calendar.day_name[x.weekday()])"
      ],
      "metadata": {
        "id": "RRjP7R-_yfDF"
      },
      "execution_count": 11,
      "outputs": []
    },
    {
      "cell_type": "markdown",
      "source": [
        "### Exploratory Data Analysis"
      ],
      "metadata": {
        "id": "6-8Fu2MXtWvy"
      }
    },
    {
      "cell_type": "markdown",
      "source": [
        "Order by hour"
      ],
      "metadata": {
        "id": "RYBX04WNh5Os"
      }
    },
    {
      "cell_type": "code",
      "source": [
        "temp = order['ord_hour'].value_counts().to_frame().reset_index()\n",
        "\n",
        "plt.figure(figsize=(20,8))\n",
        "sns.barplot(data = temp, x = 'index', y = 'ord_hour', palette ='rocket', edgecolor ='black')\n",
        "plt.title('Order by hour')\n",
        "plt.show()"
      ],
      "metadata": {
        "colab": {
          "base_uri": "https://localhost:8080/",
          "height": 513
        },
        "id": "UDrvYGQdijr3",
        "outputId": "150e4cf5-8d38-466a-9953-9c2ad69b493d"
      },
      "execution_count": 12,
      "outputs": [
        {
          "output_type": "display_data",
          "data": {
            "image/png": "[encoded data removed]",
            "text/plain": [
              "<Figure size 1440x576 with 1 Axes>"
            ]
          },
          "metadata": {
            "needs_background": "light"
          }
        }
      ]
    },
    {
      "cell_type": "markdown",
      "source": [
        "As we can see, most orders are placed between 6pm:9pm"
      ],
      "metadata": {
        "id": "pbHN_4-Hfvxu"
      }
    },
    {
      "cell_type": "code",
      "source": [
        "# order['ord_ack_date']=pd.to_datetime(order['ord_ack_date'])\n",
        "# # order['ord_ack_time']=pd.to_datetime(order['ord_ack_time'])\n",
        "# order['ord_ready_date']=pd.to_datetime(order['ord_ready_date'])\n",
        "# # order['ord_ready_time']=pd.to_datetime(order['ord_ready_time'])"
      ],
      "metadata": {
        "id": "6HxJo8YAPMwp"
      },
      "execution_count": null,
      "outputs": []
    },
    {
      "cell_type": "code",
      "source": [
        "#check the distribution of target feature\n",
        "sns.set(rc={'figure.figsize':(20,8)})\n",
        "sns.boxplot(order['prep_time_seconds'])\n",
        "plt.show()"
      ],
      "metadata": {
        "colab": {
          "base_uri": "https://localhost:8080/",
          "height": 557
        },
        "id": "tJVNLXPP9yeK",
        "outputId": "234f1221-f1af-4e33-9398-ca5a0bf2ab6e"
      },
      "execution_count": 13,
      "outputs": [
        {
          "output_type": "stream",
          "name": "stderr",
          "text": [
            "/usr/local/lib/python3.7/dist-packages/seaborn/_decorators.py:43: FutureWarning: Pass the following variable as a keyword arg: x. From version 0.12, the only valid positional argument will be `data`, and passing other arguments without an explicit keyword will result in an error or misinterpretation.\n",
            "  FutureWarning\n"
          ]
        },
        {
          "output_type": "display_data",
          "data": {
            "image/png": "[encoded data removed]",
            "text/plain": [
              "<Figure size 1440x576 with 1 Axes>"
            ]
          },
          "metadata": {}
        }
      ]
    },
    {
      "cell_type": "markdown",
      "source": [
        "Considering that the pre_orders do not affect preparation time of restaurants, and also those orders just take up 0.02%.\n",
        "So we only consider the orders processed within a day."
      ],
      "metadata": {
        "id": "96xckAg9P433"
      }
    },
    {
      "cell_type": "code",
      "source": [
        "#check if there are pre_orders for next day\n",
        "diff= pd.to_datetime(order['ord_ready_date'],utc = True) - pd.to_datetime(order['ord_ack_date'], utc = True)\n",
        "order['diff'] = pd.DataFrame(diff)\n",
        "order['diff'] = pd.DataFrame(diff)\n",
        "order['diff'] = order['diff'].astype(int)\n",
        "\n",
        "ord = order[order['diff'] ==0]"
      ],
      "metadata": {
        "colab": {
          "base_uri": "https://localhost:8080/"
        },
        "id": "qj32WR1ODnF7",
        "outputId": "677a641c-e92c-434e-eecc-77f2889c9295"
      },
      "execution_count": 14,
      "outputs": [
        {
          "output_type": "stream",
          "name": "stderr",
          "text": [
            "/usr/local/lib/python3.7/dist-packages/ipykernel_launcher.py:5: FutureWarning: casting timedelta64[ns] values to int64 with .astype(...) is deprecated and will raise in a future version. Use .view(...) instead.\n",
            "  \"\"\"\n"
          ]
        }
      ]
    },
    {
      "cell_type": "code",
      "source": [
        "ord=ord.drop(columns ='diff')"
      ],
      "metadata": {
        "id": "d0MpGrSk-oKO"
      },
      "execution_count": 54,
      "outputs": []
    },
    {
      "cell_type": "code",
      "source": [
        "plt.figure(figsize =(20,8))\n",
        "sns.boxplot(data = ord, x = ord['prep_time_seconds'])\n",
        "plt.show()"
      ],
      "metadata": {
        "colab": {
          "base_uri": "https://localhost:8080/",
          "height": 502
        },
        "id": "XH2u184hP3dF",
        "outputId": "3734b0ca-7842-4280-c3a5-f4c5fa4de511"
      },
      "execution_count": 15,
      "outputs": [
        {
          "output_type": "display_data",
          "data": {
            "image/png": "[encoded data removed]",
            "text/plain": [
              "<Figure size 1440x576 with 1 Axes>"
            ]
          },
          "metadata": {}
        }
      ]
    },
    {
      "cell_type": "code",
      "source": [
        "#overall preparation time\n",
        "pre_overall = ord[['prep_time_seconds','ord_ack_date']].groupby('ord_ack_date').mean().reset_index()\n",
        "plt.figure(figsize = (20,8))\n",
        "sns.lineplot(data = pre_overall, y =\"prep_time_seconds\", x ='ord_ack_date', palette ='rocket')\n",
        "plt.show()"
      ],
      "metadata": {
        "colab": {
          "base_uri": "https://localhost:8080/",
          "height": 502
        },
        "id": "kImCjXv-V1gT",
        "outputId": "bbe20bf7-db1d-4598-d4e1-4a1e36944751"
      },
      "execution_count": 16,
      "outputs": [
        {
          "output_type": "display_data",
          "data": {
            "image/png": "[encoded data removed]",
            "text/plain": [
              "<Figure size 1440x576 with 1 Axes>"
            ]
          },
          "metadata": {}
        }
      ]
    },
    {
      "cell_type": "code",
      "source": [
        "\n",
        "pre_day = ord[['prep_time_seconds','order_day','order_value_gbp']].groupby('order_day').agg({'prep_time_seconds': 'mean','order_value_gbp':'mean'}).reset_index()\n",
        "cate = [\"Sunday\", \"Monday\", \"Tuesday\", \"Wednesday\", \"Thursday\", \"Friday\", \"Saturday\"]\n",
        "pre_day[\"order_day\"] = pd.Categorical(pre_day[\"order_day\"], categories = cate)\n",
        "pre_day.sort_values(by = \"order_day\")"
      ],
      "metadata": {
        "colab": {
          "base_uri": "https://localhost:8080/",
          "height": 269
        },
        "id": "dTqleKrJ72jS",
        "outputId": "7ea7b4db-7aac-42e2-f80d-131dd12bd3a8"
      },
      "execution_count": 17,
      "outputs": [
        {
          "output_type": "execute_result",
          "data": {
            "text/html": [
              "\n",
              "  <div id=\"df-ed5a7f29-b1cf-4fff-89b7-8b3e755fe5b0\">\n",
              "    <div class=\"colab-df-container\">\n",
              "      <div>\n",
              "<style scoped>\n",
              "    .dataframe tbody tr th:only-of-type {\n",
              "        vertical-align: middle;\n",
              "    }\n",
              "\n",
              "    .dataframe tbody tr th {\n",
              "        vertical-align: top;\n",
              "    }\n",
              "\n",
              "    .dataframe thead th {\n",
              "        text-align: right;\n",
              "    }\n",
              "</style>\n",
              "<table border=\"1\" class=\"dataframe\">\n",
              "  <thead>\n",
              "    <tr style=\"text-align: right;\">\n",
              "      <th></th>\n",
              "      <th>order_day</th>\n",
              "      <th>prep_time_seconds</th>\n",
              "      <th>order_value_gbp</th>\n",
              "    </tr>\n",
              "  </thead>\n",
              "  <tbody>\n",
              "    <tr>\n",
              "      <th>3</th>\n",
              "      <td>Sunday</td>\n",
              "      <td>1068.835669</td>\n",
              "      <td>25.427468</td>\n",
              "    </tr>\n",
              "    <tr>\n",
              "      <th>1</th>\n",
              "      <td>Monday</td>\n",
              "      <td>1103.010811</td>\n",
              "      <td>26.312181</td>\n",
              "    </tr>\n",
              "    <tr>\n",
              "      <th>5</th>\n",
              "      <td>Tuesday</td>\n",
              "      <td>1033.021609</td>\n",
              "      <td>26.047164</td>\n",
              "    </tr>\n",
              "    <tr>\n",
              "      <th>6</th>\n",
              "      <td>Wednesday</td>\n",
              "      <td>1116.809949</td>\n",
              "      <td>26.222773</td>\n",
              "    </tr>\n",
              "    <tr>\n",
              "      <th>4</th>\n",
              "      <td>Thursday</td>\n",
              "      <td>1124.382749</td>\n",
              "      <td>26.239237</td>\n",
              "    </tr>\n",
              "    <tr>\n",
              "      <th>0</th>\n",
              "      <td>Friday</td>\n",
              "      <td>1242.526703</td>\n",
              "      <td>28.042549</td>\n",
              "    </tr>\n",
              "    <tr>\n",
              "      <th>2</th>\n",
              "      <td>Saturday</td>\n",
              "      <td>1086.739448</td>\n",
              "      <td>26.110057</td>\n",
              "    </tr>\n",
              "  </tbody>\n",
              "</table>\n",
              "</div>\n",
              "      <button class=\"colab-df-convert\" onclick=\"convertToInteractive('df-ed5a7f29-b1cf-4fff-89b7-8b3e755fe5b0')\"\n",
              "              title=\"Convert this dataframe to an interactive table.\"\n",
              "              style=\"display:none;\">\n",
              "        \n",
              "  <svg xmlns=\"http://www.w3.org/2000/svg\" height=\"24px\"viewBox=\"0 0 24 24\"\n",
              "       width=\"24px\">\n",
              "    <path d=\"M0 0h24v24H0V0z\" fill=\"none\"/>\n",
              "    <path d=\"M18.56 5.44l.94 2.06.94-2.06 2.06-.94-2.06-.94-.94-2.06-.94 2.06-2.06.94zm-11 1L8.5 8.5l.94-2.06 2.06-.94-2.06-.94L8.5 2.5l-.94 2.06-2.06.94zm10 10l.94 2.06.94-2.06 2.06-.94-2.06-.94-.94-2.06-.94 2.06-2.06.94z\"/><path d=\"M17.41 7.96l-1.37-1.37c-.4-.4-.92-.59-1.43-.59-.52 0-1.04.2-1.43.59L10.3 9.45l-7.72 7.72c-.78.78-.78 2.05 0 2.83L4 21.41c.39.39.9.59 1.41.59.51 0 1.02-.2 1.41-.59l7.78-7.78 2.81-2.81c.8-.78.8-2.07 0-2.86zM5.41 20L4 18.59l7.72-7.72 1.47 1.35L5.41 20z\"/>\n",
              "  </svg>\n",
              "      </button>\n",
              "      \n",
              "  <style>\n",
              "    .colab-df-container {\n",
              "      display:flex;\n",
              "      flex-wrap:wrap;\n",
              "      gap: 12px;\n",
              "    }\n",
              "\n",
              "    .colab-df-convert {\n",
              "      background-color: #E8F0FE;\n",
              "      border: none;\n",
              "      border-radius: 50%;\n",
              "      cursor: pointer;\n",
              "      display: none;\n",
              "      fill: #1967D2;\n",
              "      height: 32px;\n",
              "      padding: 0 0 0 0;\n",
              "      width: 32px;\n",
              "    }\n",
              "\n",
              "    .colab-df-convert:hover {\n",
              "      background-color: #E2EBFA;\n",
              "      box-shadow: 0px 1px 2px rgba(60, 64, 67, 0.3), 0px 1px 3px 1px rgba(60, 64, 67, 0.15);\n",
              "      fill: #174EA6;\n",
              "    }\n",
              "\n",
              "    [theme=dark] .colab-df-convert {\n",
              "      background-color: #3B4455;\n",
              "      fill: #D2E3FC;\n",
              "    }\n",
              "\n",
              "    [theme=dark] .colab-df-convert:hover {\n",
              "      background-color: #434B5C;\n",
              "      box-shadow: 0px 1px 3px 1px rgba(0, 0, 0, 0.15);\n",
              "      filter: drop-shadow(0px 1px 2px rgba(0, 0, 0, 0.3));\n",
              "      fill: #FFFFFF;\n",
              "    }\n",
              "  </style>\n",
              "\n",
              "      <script>\n",
              "        const buttonEl =\n",
              "          document.querySelector('#df-ed5a7f29-b1cf-4fff-89b7-8b3e755fe5b0 button.colab-df-convert');\n",
              "        buttonEl.style.display =\n",
              "          google.colab.kernel.accessAllowed ? 'block' : 'none';\n",
              "\n",
              "        async function convertToInteractive(key) {\n",
              "          const element = document.querySelector('#df-ed5a7f29-b1cf-4fff-89b7-8b3e755fe5b0');\n",
              "          const dataTable =\n",
              "            await google.colab.kernel.invokeFunction('convertToInteractive',\n",
              "                                                     [key], {});\n",
              "          if (!dataTable) return;\n",
              "\n",
              "          const docLinkHtml = 'Like what you see? Visit the ' +\n",
              "            '<a target=\"_blank\" href=https://colab.research.google.com/notebooks/data_table.ipynb>data table notebook</a>'\n",
              "            + ' to learn more about interactive tables.';\n",
              "          element.innerHTML = '';\n",
              "          dataTable['output_type'] = 'display_data';\n",
              "          await google.colab.output.renderOutput(dataTable, element);\n",
              "          const docLink = document.createElement('div');\n",
              "          docLink.innerHTML = docLinkHtml;\n",
              "          element.appendChild(docLink);\n",
              "        }\n",
              "      </script>\n",
              "    </div>\n",
              "  </div>\n",
              "  "
            ],
            "text/plain": [
              "   order_day  prep_time_seconds  order_value_gbp\n",
              "3     Sunday        1068.835669        25.427468\n",
              "1     Monday        1103.010811        26.312181\n",
              "5    Tuesday        1033.021609        26.047164\n",
              "6  Wednesday        1116.809949        26.222773\n",
              "4   Thursday        1124.382749        26.239237\n",
              "0     Friday        1242.526703        28.042549\n",
              "2   Saturday        1086.739448        26.110057"
            ]
          },
          "metadata": {},
          "execution_count": 17
        }
      ]
    },
    {
      "cell_type": "code",
      "source": [
        "#trend by day\n",
        "\n",
        "plt.figure(figsize = (20,8))\n",
        "\n",
        "sns.lineplot(data=pre_day, x = pre_day['order_day'], y= pre_day['prep_time_seconds'], palette='rocket' )\n",
        "plt.title('Preparation time by days')\n",
        "plt.show()"
      ],
      "metadata": {
        "colab": {
          "base_uri": "https://localhost:8080/",
          "height": 518
        },
        "id": "iMwGwzcfXAIe",
        "outputId": "62fd1e08-e94f-4f7c-e8dc-e54a2d2c7127"
      },
      "execution_count": 18,
      "outputs": [
        {
          "output_type": "display_data",
          "data": {
            "image/png": "[encoded data removed]",
            "text/plain": [
              "<Figure size 1440x576 with 1 Axes>"
            ]
          },
          "metadata": {}
        }
      ]
    },
    {
      "cell_type": "code",
      "source": [
        "plt.figure(figsize=(20,8))\n",
        "sns.barplot(data=ord['order_day'].value_counts().reindex(cate).to_frame().reset_index(),x='index', y= 'order_day', palette='rocket')\n",
        "plt.title('orders by day')\n",
        "plt.show()"
      ],
      "metadata": {
        "colab": {
          "base_uri": "https://localhost:8080/",
          "height": 518
        },
        "id": "u_zh152DF7y_",
        "outputId": "2c01682b-1b45-4517-c092-df064a408860"
      },
      "execution_count": 19,
      "outputs": [
        {
          "output_type": "display_data",
          "data": {
            "image/png": "[encoded data removed]",
            "text/plain": [
              "<Figure size 1440x576 with 1 Axes>"
            ]
          },
          "metadata": {}
        }
      ]
    },
    {
      "cell_type": "markdown",
      "source": [
        "As observed, the most orders were made on weekend. However, the preparation time is much higher on Friday and is the second lowest on Sunday."
      ],
      "metadata": {
        "id": "tMOAFmyTGaUl"
      }
    },
    {
      "cell_type": "markdown",
      "source": [
        "Orders by cities"
      ],
      "metadata": {
        "id": "SyC1NqQ-JjwZ"
      }
    },
    {
      "cell_type": "code",
      "source": [
        "countries = ord['country'].value_counts().reset_index().rename(columns ={'country':'count'})\n",
        "countries['percent'] = countries['count']/countries['count'].sum()*100"
      ],
      "metadata": {
        "id": "J9s5Tb9sffd4"
      },
      "execution_count": 20,
      "outputs": []
    },
    {
      "cell_type": "code",
      "source": [
        "plt.figure(figsize=(20,8))\n",
        "sns.set(font_scale = 1.0)\n",
        "plt.pie(data = countries, x ='percent',autopct='%1.1f%%',pctdistance=1.1, labeldistance=1.2, labels = 'index')\n",
        "plt.show()"
      ],
      "metadata": {
        "colab": {
          "base_uri": "https://localhost:8080/",
          "height": 466
        },
        "id": "J2xCtV-QMOf7",
        "outputId": "d6e7ead9-1f7b-426f-a66d-eaf475be29e0"
      },
      "execution_count": 175,
      "outputs": [
        {
          "output_type": "display_data",
          "data": {
            "image/png": "[encoded data removed]",
            "text/plain": [
              "<Figure size 1440x576 with 1 Axes>"
            ]
          },
          "metadata": {}
        }
      ]
    },
    {
      "cell_type": "markdown",
      "source": [
        "As shown in the figure above, UK has the most orders, which takes up over 90% the total orders."
      ],
      "metadata": {
        "id": "AS3rxsHzVfc1"
      }
    },
    {
      "cell_type": "markdown",
      "source": [
        "Number of orders by cities"
      ],
      "metadata": {
        "id": "HNommf9kWRkA"
      }
    },
    {
      "cell_type": "code",
      "source": [
        "plt.figure(figsize=(25,10))\n",
        "sns.set(font_scale = 1)\n",
        "ord.groupby('city').count()['order_value_gbp'].sort_values().plot(kind='bar',color='salmon',edgecolor='k')\n",
        "plt.show()"
      ],
      "metadata": {
        "colab": {
          "base_uri": "https://localhost:8080/",
          "height": 676
        },
        "id": "c_16lYpqPG5d",
        "outputId": "b0a6ad01-76bc-46f7-9937-c57781f1e3d8"
      },
      "execution_count": 35,
      "outputs": [
        {
          "output_type": "display_data",
          "data": {
            "image/png": "[encoded data removed]",
            "text/plain": [
              "<Figure size 1800x720 with 1 Axes>"
            ]
          },
          "metadata": {}
        }
      ]
    },
    {
      "cell_type": "markdown",
      "source": [
        "It can be seen that the most orders are from London"
      ],
      "metadata": {
        "id": "MI2o6p7iZUU6"
      }
    },
    {
      "cell_type": "code",
      "source": [
        "plt.figure(figsize=(25,10))\n",
        "sns.set(font_scale = 1)\n",
        "ord.groupby('type_of_food').count()['order_value_gbp'].sort_values().plot(kind='bar',color='salmon',edgecolor='k')\n",
        "plt.xticks(rotation=45, ha='right')\n",
        "plt.show()"
      ],
      "metadata": {
        "colab": {
          "base_uri": "https://localhost:8080/",
          "height": 688
        },
        "id": "PLbzQrjfOqc_",
        "outputId": "c47d591f-75a4-498d-d840-abe240529903"
      },
      "execution_count": 36,
      "outputs": [
        {
          "output_type": "display_data",
          "data": {
            "image/png": "[encoded data removed]",
            "text/plain": [
              "<Figure size 1800x720 with 1 Axes>"
            ]
          },
          "metadata": {}
        }
      ]
    },
    {
      "cell_type": "markdown",
      "source": [
        "As the figure reveals, Italian, Burges and Thai are the most ordered types of food."
      ],
      "metadata": {
        "id": "nl8Yccz7515q"
      }
    },
    {
      "cell_type": "code",
      "source": [
        "#price_per_item\n",
        "ord['price_per_item'] =round(ord['order_value_gbp']/ord['number_of_items'],1)"
      ],
      "metadata": {
        "id": "7Hr3Xt079PX5"
      },
      "execution_count": null,
      "outputs": []
    },
    {
      "cell_type": "code",
      "source": [
        "bins =[0,10,25,45,1000]\n",
        "labels =['low','medium','high','too high']\n",
        "ord['price_range'] = pd.cut(ord['price_per_item'], bins,labels=labels)\n",
        "\n",
        "#can use numpy select to match condition with label"
      ],
      "metadata": {
        "id": "Kc4xWgBL6FCb"
      },
      "execution_count": null,
      "outputs": []
    },
    {
      "cell_type": "code",
      "source": [
        "plt.figure(figsize=(20,8))\n",
        "sns.set(font_scale = 1)\n",
        "ord.groupby('price_range').count()['order_value_gbp'].sort_values().plot(kind = 'bar', color ='salmon', edgecolor = 'black')\n",
        "plt.xticks(rotation=45, ha='right')\n",
        "plt.show()"
      ],
      "metadata": {
        "colab": {
          "base_uri": "https://localhost:8080/",
          "height": 532
        },
        "id": "31dC8Rp3AKsu",
        "outputId": "82b37a76-22a4-43a6-91f0-7dea35e6e9c2"
      },
      "execution_count": 52,
      "outputs": [
        {
          "output_type": "display_data",
          "data": {
            "image/png": "[encoded data removed]",
            "text/plain": [
              "<Figure size 1440x576 with 1 Axes>"
            ]
          },
          "metadata": {}
        }
      ]
    },
    {
      "cell_type": "markdown",
      "source": [
        "Correlation Matrix\n",
        "\n",
        "Correlation Matrix is used to do feature engineering which is process to select the most relevant variables"
      ],
      "metadata": {
        "id": "7Lfi4e8rM8tu"
      }
    },
    {
      "cell_type": "code",
      "source": [
        "ord = ord.drop(columns = 'index')"
      ],
      "metadata": {
        "id": "_uz1sEf4BLBM"
      },
      "execution_count": null,
      "outputs": []
    },
    {
      "cell_type": "code",
      "source": [
        "#order.corr('pearson')['prep_time_seconds'].loc['ack_day'] #pearson --> linearity, spearman --> monotonic relationship"
      ],
      "metadata": {
        "colab": {
          "base_uri": "https://localhost:8080/"
        },
        "id": "UxpPd1V9dqqX",
        "outputId": "02554231-c21c-4c3e-8e93-8e60e3c3bde7"
      },
      "execution_count": null,
      "outputs": [
        {
          "output_type": "execute_result",
          "data": {
            "text/plain": [
              "0.005318490738610632"
            ]
          },
          "metadata": {},
          "execution_count": 59
        }
      ]
    },
    {
      "cell_type": "code",
      "source": [
        "#pearson --> linearity, spearman --> monotonic relationship\n",
        "plt.figure(figsize =(20,8))\n",
        "cor_matrix = ord.corr('pearson').round(2)\n",
        "sns.heatmap(data = cor_matrix,annot = True)\n",
        "plt.show()"
      ],
      "metadata": {
        "colab": {
          "base_uri": "https://localhost:8080/",
          "height": 490
        },
        "id": "mfGU1f7YNa3G",
        "outputId": "6f0a4e54-7a80-4efa-e08c-9b07e6c4e78f"
      },
      "execution_count": 61,
      "outputs": [
        {
          "output_type": "display_data",
          "data": {
            "image/png": "[encoded data removed]",
            "text/plain": [
              "<Figure size 1440x576 with 2 Axes>"
            ]
          },
          "metadata": {}
        }
      ]
    },
    {
      "cell_type": "markdown",
      "source": [
        "###One-hot encoding"
      ],
      "metadata": {
        "id": "WoUWvk0Mjgml"
      }
    },
    {
      "cell_type": "code",
      "source": [
        "df = pd.concat( [ord, pd.get_dummies(ord.price_range, prefix = 'Price_range') ] , axis = 1)\n",
        "df = pd.concat( [df, pd.get_dummies(df.city, prefix = 'City') ] , axis = 1)\n",
        "df = pd.concat( [df, pd.get_dummies(df.country, prefix = 'Country') ] , axis = 1)"
      ],
      "metadata": {
        "id": "1TX1GRzFDiIs"
      },
      "execution_count": 70,
      "outputs": []
    },
    {
      "cell_type": "code",
      "source": [
        "df.columns"
      ],
      "metadata": {
        "colab": {
          "base_uri": "https://localhost:8080/"
        },
        "id": "3B4y0W-HV3pI",
        "outputId": "1e8283a6-7557-465f-fe4e-e894bf120a38"
      },
      "execution_count": 90,
      "outputs": [
        {
          "output_type": "execute_result",
          "data": {
            "text/plain": [
              "Index(['order_acknowledged_at', 'order_ready_at', 'order_value_gbp',\n",
              "       'restaurant_id', 'number_of_items', 'prep_time_seconds', 'country',\n",
              "       'city', 'type_of_food', 'ord_ack_date', 'ord_ready_date', 'ord_hour',\n",
              "       'day_number', 'order_day', 'price_per_item', 'price_range',\n",
              "       'Price_range_low', 'Price_range_medium', 'Price_range_high',\n",
              "       'Price_range_too high', 'City_Berlin', 'City_Birmingham',\n",
              "       'City_Brighton', 'City_Bristol', 'City_Cambridge', 'City_Cardiff',\n",
              "       'City_Cheltenham', 'City_Dublin', 'City_Edinburgh', 'City_Glasgow',\n",
              "       'City_Guildford', 'City_Leeds', 'City_Leicester', 'City_Liverpool',\n",
              "       'City_London', 'City_Manchester', 'City_München', 'City_Nottingham',\n",
              "       'City_Oxford', 'City_Paris', 'City_Reading', 'City_Southampton',\n",
              "       'Country_France', 'Country_Germany', 'Country_Ireland', 'Country_UK'],\n",
              "      dtype='object')"
            ]
          },
          "metadata": {},
          "execution_count": 90
        }
      ]
    },
    {
      "cell_type": "markdown",
      "source": [
        "### Modelling"
      ],
      "metadata": {
        "id": "oTmPyksm9s42"
      }
    },
    {
      "cell_type": "code",
      "source": [
        "#train_test_split\n",
        "X = df.loc[:,~df.columns.isin([\"prep_time_seconds\",'restaurant_id','order_acknowledged_at', 'order_ready_at','ord_ack_date', 'ord_ready_date','order_day','day_number','country','city','price_range','type_of_food'])]\n",
        "y= df['prep_time_seconds']\n",
        "\n",
        "X_train, X_test,y_train, y_test = train_test_split(X,y,test_size=0.3,shuffle= True)"
      ],
      "metadata": {
        "id": "Ydxs_7jq9vrK"
      },
      "execution_count": 97,
      "outputs": []
    },
    {
      "cell_type": "code",
      "source": [
        "#select algorithms\n",
        "# linear regression, ridge regression, decision tree, random forest regression\n",
        "reg_dict = {'lm': LinearRegression(), \n",
        "            'ridge': Ridge(), \n",
        "            #'decision_tree': DecisionTreeRegressor(criterion ='mse', random_state=42),\n",
        "            'random_forest': RandomForestRegressor(n_estimators=100, random_state=42)}\n",
        "for name, reg in reg_dict.items():\n",
        "    pred = reg.fit(X_train, y_train)\n",
        "    y_pred = pred.predict(X_test)\n",
        "    mae = metrics.mean_absolute_error(y_test, y_pred)\n",
        "    mse = metrics.mean_squared_error(y_test, y_pred)\n",
        "    rmse = np.sqrt(metrics.mean_squared_error(y_test, y_pred))\n",
        "    print('MAE (Mean-Absolute-Error): %s' %mae)\n",
        "    print('MSE (Mean-Squared-Error) : %s' %mse)\n",
        "    print('RMSE (Root-MSE): %s' %rmse)"
      ],
      "metadata": {
        "colab": {
          "base_uri": "https://localhost:8080/"
        },
        "id": "2xCs9dN5F1x5",
        "outputId": "3d41ec96-a661-452a-f78c-e546dbaa5bd0"
      },
      "execution_count": 115,
      "outputs": [
        {
          "output_type": "stream",
          "name": "stdout",
          "text": [
            "MAE (Mean-Absolute-Error): 669.5344784906331\n",
            "MSE (Mean-Squared-Error) : 2309024.1516449996\n",
            "RMSE (Root-MSE): 1519.5473509058543\n",
            "MAE (Mean-Absolute-Error): 669.4307811727944\n",
            "MSE (Mean-Squared-Error) : 2308833.191647188\n",
            "RMSE (Root-MSE): 1519.4845151060895\n",
            "MAE (Mean-Absolute-Error): 691.4414826163237\n",
            "MSE (Mean-Squared-Error) : 2406045.1795442738\n",
            "RMSE (Root-MSE): 1551.1431847332062\n"
          ]
        }
      ]
    },
    {
      "cell_type": "code",
      "source": [
        "#use decision tree with GridCV\n",
        "rf = Ridge()\n",
        "model = rf.fit(X_train, y_train)\n",
        "y_predict = rf.predict(X_test)"
      ],
      "metadata": {
        "id": "5RAPQ7gzaLQI"
      },
      "execution_count": 114,
      "outputs": []
    },
    {
      "cell_type": "code",
      "source": [
        "#Evaluate\n",
        "mae = metrics.mean_absolute_error(y_test, y_predict)\n",
        "mse = metrics.mean_squared_error(y_test, y_predict)\n",
        "rmse = np.sqrt(metrics.mean_squared_error(y_test, y_predict))\n",
        "r2 = metrics.r2_score(y_test, y_predict)\n",
        "\n",
        "print('MAE (Mean-Absolute-Error): %s' %mae)\n",
        "print('MSE (Mean-Squared-Error): %s' %mse)\n",
        "print('RMSE (Root-MSE): %s' %rmse)\n",
        "print('R2 score: %s' %r2)\n"
      ],
      "metadata": {
        "colab": {
          "base_uri": "https://localhost:8080/"
        },
        "id": "m32obhviceYM",
        "outputId": "56254b97-4786-418a-9eda-8e70e057e280"
      },
      "execution_count": 103,
      "outputs": [
        {
          "output_type": "stream",
          "name": "stdout",
          "text": [
            "MAE (Mean-Absolute-Error): 688.7622759385719\n",
            "MSE (Mean-Squared-Error): 2385146.973786494\n",
            "RMSE (Root-MSE): 1544.3921049353025\n",
            "R2 score: 0.04127924537350247\n"
          ]
        }
      ]
    },
    {
      "cell_type": "code",
      "source": [
        "#Using cross-validation\n",
        "kf= KFold(n_splits = 5, shuffle = True, random_state = 27)\n",
        "for name, reg in reg_dict.items():\n",
        "    pred = reg.fit(X_train, y_train)\n",
        "    y_pred = pred.predict(X_test)\n",
        "    mae = metrics.mean_absolute_error(y_test, y_pred)\n",
        "    mse = metrics.mean_squared_error(y_test, y_pred)\n",
        "    rmse = np.sqrt(metrics.mean_squared_error(y_test, y_pred))\n",
        "    print('MAE (Mean-Absolute-Error): %s' %mae)\n",
        "    print('MSE (Mean-Squared-Error) : %s' %mse)\n",
        "    print('RMSE (Root-MSE): %s' %rmse)\n",
        "\n",
        "random_forest = RandomForestRegressor(n_estimators=100, criterion='squared_error', max_depth=20, min_samples_split=2)\n",
        "cv_score = cross_val_score(random_forest, X_train, y_train, scoring='r2', cv=kf)\n",
        "cv_score"
      ],
      "metadata": {
        "colab": {
          "base_uri": "https://localhost:8080/"
        },
        "id": "Ks0pKqPcomf0",
        "outputId": "c0e0e51b-1efd-4a51-a1cf-ea7a8294b945"
      },
      "execution_count": null,
      "outputs": [
        {
          "output_type": "execute_result",
          "data": {
            "text/plain": [
              "array([-0.06073019, -0.045454  , -0.01012607, -0.07885548, -0.01567793])"
            ]
          },
          "metadata": {},
          "execution_count": 174
        }
      ]
    },
    {
      "cell_type": "code",
      "source": [
        "error2 = pd.DataFrame({'Actual-Values': np.array(y_test).flatten(), 'Predicted-Values': predi.flatten()})"
      ],
      "metadata": {
        "id": "PalaGC_nqKG0"
      },
      "execution_count": null,
      "outputs": []
    },
    {
      "cell_type": "code",
      "source": [
        "error2.head(10)"
      ],
      "metadata": {
        "colab": {
          "base_uri": "https://localhost:8080/",
          "height": 363
        },
        "id": "JsLWlmNoqT0M",
        "outputId": "4df2b411-40f7-4375-d5e9-85891da3cdc4"
      },
      "execution_count": null,
      "outputs": [
        {
          "output_type": "execute_result",
          "data": {
            "text/html": [
              "\n",
              "  <div id=\"df-65a06992-9eeb-47ef-9f65-8d9718536707\">\n",
              "    <div class=\"colab-df-container\">\n",
              "      <div>\n",
              "<style scoped>\n",
              "    .dataframe tbody tr th:only-of-type {\n",
              "        vertical-align: middle;\n",
              "    }\n",
              "\n",
              "    .dataframe tbody tr th {\n",
              "        vertical-align: top;\n",
              "    }\n",
              "\n",
              "    .dataframe thead th {\n",
              "        text-align: right;\n",
              "    }\n",
              "</style>\n",
              "<table border=\"1\" class=\"dataframe\">\n",
              "  <thead>\n",
              "    <tr style=\"text-align: right;\">\n",
              "      <th></th>\n",
              "      <th>Actual-Values</th>\n",
              "      <th>Predicted-Values</th>\n",
              "    </tr>\n",
              "  </thead>\n",
              "  <tbody>\n",
              "    <tr>\n",
              "      <th>0</th>\n",
              "      <td>529</td>\n",
              "      <td>958.934374</td>\n",
              "    </tr>\n",
              "    <tr>\n",
              "      <th>1</th>\n",
              "      <td>2479</td>\n",
              "      <td>308.213872</td>\n",
              "    </tr>\n",
              "    <tr>\n",
              "      <th>2</th>\n",
              "      <td>1916</td>\n",
              "      <td>894.053962</td>\n",
              "    </tr>\n",
              "    <tr>\n",
              "      <th>3</th>\n",
              "      <td>1157</td>\n",
              "      <td>987.333148</td>\n",
              "    </tr>\n",
              "    <tr>\n",
              "      <th>4</th>\n",
              "      <td>910</td>\n",
              "      <td>994.722235</td>\n",
              "    </tr>\n",
              "    <tr>\n",
              "      <th>5</th>\n",
              "      <td>439</td>\n",
              "      <td>976.823867</td>\n",
              "    </tr>\n",
              "    <tr>\n",
              "      <th>6</th>\n",
              "      <td>4997</td>\n",
              "      <td>1115.905949</td>\n",
              "    </tr>\n",
              "    <tr>\n",
              "      <th>7</th>\n",
              "      <td>565</td>\n",
              "      <td>949.709052</td>\n",
              "    </tr>\n",
              "    <tr>\n",
              "      <th>8</th>\n",
              "      <td>1476</td>\n",
              "      <td>2287.398382</td>\n",
              "    </tr>\n",
              "    <tr>\n",
              "      <th>9</th>\n",
              "      <td>801</td>\n",
              "      <td>1059.030191</td>\n",
              "    </tr>\n",
              "  </tbody>\n",
              "</table>\n",
              "</div>\n",
              "      <button class=\"colab-df-convert\" onclick=\"convertToInteractive('df-65a06992-9eeb-47ef-9f65-8d9718536707')\"\n",
              "              title=\"Convert this dataframe to an interactive table.\"\n",
              "              style=\"display:none;\">\n",
              "        \n",
              "  <svg xmlns=\"http://www.w3.org/2000/svg\" height=\"24px\"viewBox=\"0 0 24 24\"\n",
              "       width=\"24px\">\n",
              "    <path d=\"M0 0h24v24H0V0z\" fill=\"none\"/>\n",
              "    <path d=\"M18.56 5.44l.94 2.06.94-2.06 2.06-.94-2.06-.94-.94-2.06-.94 2.06-2.06.94zm-11 1L8.5 8.5l.94-2.06 2.06-.94-2.06-.94L8.5 2.5l-.94 2.06-2.06.94zm10 10l.94 2.06.94-2.06 2.06-.94-2.06-.94-.94-2.06-.94 2.06-2.06.94z\"/><path d=\"M17.41 7.96l-1.37-1.37c-.4-.4-.92-.59-1.43-.59-.52 0-1.04.2-1.43.59L10.3 9.45l-7.72 7.72c-.78.78-.78 2.05 0 2.83L4 21.41c.39.39.9.59 1.41.59.51 0 1.02-.2 1.41-.59l7.78-7.78 2.81-2.81c.8-.78.8-2.07 0-2.86zM5.41 20L4 18.59l7.72-7.72 1.47 1.35L5.41 20z\"/>\n",
              "  </svg>\n",
              "      </button>\n",
              "      \n",
              "  <style>\n",
              "    .colab-df-container {\n",
              "      display:flex;\n",
              "      flex-wrap:wrap;\n",
              "      gap: 12px;\n",
              "    }\n",
              "\n",
              "    .colab-df-convert {\n",
              "      background-color: #E8F0FE;\n",
              "      border: none;\n",
              "      border-radius: 50%;\n",
              "      cursor: pointer;\n",
              "      display: none;\n",
              "      fill: #1967D2;\n",
              "      height: 32px;\n",
              "      padding: 0 0 0 0;\n",
              "      width: 32px;\n",
              "    }\n",
              "\n",
              "    .colab-df-convert:hover {\n",
              "      background-color: #E2EBFA;\n",
              "      box-shadow: 0px 1px 2px rgba(60, 64, 67, 0.3), 0px 1px 3px 1px rgba(60, 64, 67, 0.15);\n",
              "      fill: #174EA6;\n",
              "    }\n",
              "\n",
              "    [theme=dark] .colab-df-convert {\n",
              "      background-color: #3B4455;\n",
              "      fill: #D2E3FC;\n",
              "    }\n",
              "\n",
              "    [theme=dark] .colab-df-convert:hover {\n",
              "      background-color: #434B5C;\n",
              "      box-shadow: 0px 1px 3px 1px rgba(0, 0, 0, 0.15);\n",
              "      filter: drop-shadow(0px 1px 2px rgba(0, 0, 0, 0.3));\n",
              "      fill: #FFFFFF;\n",
              "    }\n",
              "  </style>\n",
              "\n",
              "      <script>\n",
              "        const buttonEl =\n",
              "          document.querySelector('#df-65a06992-9eeb-47ef-9f65-8d9718536707 button.colab-df-convert');\n",
              "        buttonEl.style.display =\n",
              "          google.colab.kernel.accessAllowed ? 'block' : 'none';\n",
              "\n",
              "        async function convertToInteractive(key) {\n",
              "          const element = document.querySelector('#df-65a06992-9eeb-47ef-9f65-8d9718536707');\n",
              "          const dataTable =\n",
              "            await google.colab.kernel.invokeFunction('convertToInteractive',\n",
              "                                                     [key], {});\n",
              "          if (!dataTable) return;\n",
              "\n",
              "          const docLinkHtml = 'Like what you see? Visit the ' +\n",
              "            '<a target=\"_blank\" href=https://colab.research.google.com/notebooks/data_table.ipynb>data table notebook</a>'\n",
              "            + ' to learn more about interactive tables.';\n",
              "          element.innerHTML = '';\n",
              "          dataTable['output_type'] = 'display_data';\n",
              "          await google.colab.output.renderOutput(dataTable, element);\n",
              "          const docLink = document.createElement('div');\n",
              "          docLink.innerHTML = docLinkHtml;\n",
              "          element.appendChild(docLink);\n",
              "        }\n",
              "      </script>\n",
              "    </div>\n",
              "  </div>\n",
              "  "
            ],
            "text/plain": [
              "   Actual-Values  Predicted-Values\n",
              "0            529        958.934374\n",
              "1           2479        308.213872\n",
              "2           1916        894.053962\n",
              "3           1157        987.333148\n",
              "4            910        994.722235\n",
              "5            439        976.823867\n",
              "6           4997       1115.905949\n",
              "7            565        949.709052\n",
              "8           1476       2287.398382\n",
              "9            801       1059.030191"
            ]
          },
          "metadata": {},
          "execution_count": 178
        }
      ]
    },
    {
      "cell_type": "code",
      "source": [
        "#Train model with scaling\n",
        "#SCALING FEATURE:\n",
        "from sklearn.preprocessing import RobustScaler\n",
        "scaler = RobustScaler()\n",
        "#train_test_split\n",
        "X = ord_selected_dummies.loc[:,~ord_selected_dummies.columns.isin([\"prep_time_seconds\"])]\n",
        "y= ord_selected_dummies['prep_time_seconds']\n",
        "\n",
        "df = pd.DataFrame(scaler.fit_transform(X))\n",
        "\n",
        "X_train, X_test,y_train, y_test = train_test_split(X,y,test_size=0.3,shuffle= True)"
      ],
      "metadata": {
        "id": "p_X9VVdN178O"
      },
      "execution_count": null,
      "outputs": []
    },
    {
      "cell_type": "code",
      "source": [
        "df.head()"
      ],
      "metadata": {
        "colab": {
          "base_uri": "https://localhost:8080/",
          "height": 300
        },
        "id": "S3FNxljN2lgz",
        "outputId": "69b3c3a0-1125-4679-845c-729336fcc204"
      },
      "execution_count": null,
      "outputs": [
        {
          "output_type": "execute_result",
          "data": {
            "text/html": [
              "\n",
              "  <div id=\"df-2b1281f0-d88f-45d1-8be0-535635072469\">\n",
              "    <div class=\"colab-df-container\">\n",
              "      <div>\n",
              "<style scoped>\n",
              "    .dataframe tbody tr th:only-of-type {\n",
              "        vertical-align: middle;\n",
              "    }\n",
              "\n",
              "    .dataframe tbody tr th {\n",
              "        vertical-align: top;\n",
              "    }\n",
              "\n",
              "    .dataframe thead th {\n",
              "        text-align: right;\n",
              "    }\n",
              "</style>\n",
              "<table border=\"1\" class=\"dataframe\">\n",
              "  <thead>\n",
              "    <tr style=\"text-align: right;\">\n",
              "      <th></th>\n",
              "      <th>0</th>\n",
              "      <th>1</th>\n",
              "      <th>2</th>\n",
              "      <th>3</th>\n",
              "      <th>4</th>\n",
              "      <th>5</th>\n",
              "      <th>6</th>\n",
              "      <th>7</th>\n",
              "      <th>8</th>\n",
              "      <th>9</th>\n",
              "      <th>10</th>\n",
              "      <th>11</th>\n",
              "      <th>12</th>\n",
              "      <th>13</th>\n",
              "      <th>14</th>\n",
              "      <th>15</th>\n",
              "      <th>16</th>\n",
              "      <th>17</th>\n",
              "      <th>18</th>\n",
              "      <th>19</th>\n",
              "      <th>20</th>\n",
              "      <th>21</th>\n",
              "      <th>22</th>\n",
              "      <th>23</th>\n",
              "      <th>24</th>\n",
              "      <th>25</th>\n",
              "      <th>26</th>\n",
              "      <th>27</th>\n",
              "      <th>28</th>\n",
              "      <th>29</th>\n",
              "      <th>30</th>\n",
              "      <th>31</th>\n",
              "      <th>32</th>\n",
              "      <th>33</th>\n",
              "      <th>34</th>\n",
              "      <th>35</th>\n",
              "      <th>36</th>\n",
              "      <th>37</th>\n",
              "      <th>38</th>\n",
              "      <th>39</th>\n",
              "      <th>...</th>\n",
              "      <th>76</th>\n",
              "      <th>77</th>\n",
              "      <th>78</th>\n",
              "      <th>79</th>\n",
              "      <th>80</th>\n",
              "      <th>81</th>\n",
              "      <th>82</th>\n",
              "      <th>83</th>\n",
              "      <th>84</th>\n",
              "      <th>85</th>\n",
              "      <th>86</th>\n",
              "      <th>87</th>\n",
              "      <th>88</th>\n",
              "      <th>89</th>\n",
              "      <th>90</th>\n",
              "      <th>91</th>\n",
              "      <th>92</th>\n",
              "      <th>93</th>\n",
              "      <th>94</th>\n",
              "      <th>95</th>\n",
              "      <th>96</th>\n",
              "      <th>97</th>\n",
              "      <th>98</th>\n",
              "      <th>99</th>\n",
              "      <th>100</th>\n",
              "      <th>101</th>\n",
              "      <th>102</th>\n",
              "      <th>103</th>\n",
              "      <th>104</th>\n",
              "      <th>105</th>\n",
              "      <th>106</th>\n",
              "      <th>107</th>\n",
              "      <th>108</th>\n",
              "      <th>109</th>\n",
              "      <th>110</th>\n",
              "      <th>111</th>\n",
              "      <th>112</th>\n",
              "      <th>113</th>\n",
              "      <th>114</th>\n",
              "      <th>115</th>\n",
              "    </tr>\n",
              "  </thead>\n",
              "  <tbody>\n",
              "    <tr>\n",
              "      <th>0</th>\n",
              "      <td>2.851852</td>\n",
              "      <td>0.097133</td>\n",
              "      <td>-0.5</td>\n",
              "      <td>7.650142</td>\n",
              "      <td>0.0</td>\n",
              "      <td>1.0</td>\n",
              "      <td>0.0</td>\n",
              "      <td>0.0</td>\n",
              "      <td>0.0</td>\n",
              "      <td>0.0</td>\n",
              "      <td>0.0</td>\n",
              "      <td>0.0</td>\n",
              "      <td>0.0</td>\n",
              "      <td>0.0</td>\n",
              "      <td>0.0</td>\n",
              "      <td>0.0</td>\n",
              "      <td>0.0</td>\n",
              "      <td>0.0</td>\n",
              "      <td>0.0</td>\n",
              "      <td>0.0</td>\n",
              "      <td>0.0</td>\n",
              "      <td>0.0</td>\n",
              "      <td>0.0</td>\n",
              "      <td>0.0</td>\n",
              "      <td>1.0</td>\n",
              "      <td>0.0</td>\n",
              "      <td>0.0</td>\n",
              "      <td>0.0</td>\n",
              "      <td>0.0</td>\n",
              "      <td>0.0</td>\n",
              "      <td>0.0</td>\n",
              "      <td>0.0</td>\n",
              "      <td>0.0</td>\n",
              "      <td>0.0</td>\n",
              "      <td>0.0</td>\n",
              "      <td>0.0</td>\n",
              "      <td>0.0</td>\n",
              "      <td>0.0</td>\n",
              "      <td>0.0</td>\n",
              "      <td>0.0</td>\n",
              "      <td>...</td>\n",
              "      <td>0.0</td>\n",
              "      <td>0.0</td>\n",
              "      <td>0.0</td>\n",
              "      <td>0.0</td>\n",
              "      <td>0.0</td>\n",
              "      <td>0.0</td>\n",
              "      <td>0.0</td>\n",
              "      <td>0.0</td>\n",
              "      <td>0.0</td>\n",
              "      <td>0.0</td>\n",
              "      <td>0.0</td>\n",
              "      <td>0.0</td>\n",
              "      <td>0.0</td>\n",
              "      <td>0.0</td>\n",
              "      <td>0.0</td>\n",
              "      <td>0.0</td>\n",
              "      <td>0.0</td>\n",
              "      <td>0.0</td>\n",
              "      <td>0.0</td>\n",
              "      <td>0.0</td>\n",
              "      <td>0.0</td>\n",
              "      <td>0.0</td>\n",
              "      <td>0.0</td>\n",
              "      <td>0.0</td>\n",
              "      <td>0.0</td>\n",
              "      <td>0.0</td>\n",
              "      <td>0.0</td>\n",
              "      <td>0.0</td>\n",
              "      <td>0.0</td>\n",
              "      <td>0.0</td>\n",
              "      <td>0.0</td>\n",
              "      <td>0.0</td>\n",
              "      <td>0.0</td>\n",
              "      <td>0.0</td>\n",
              "      <td>0.0</td>\n",
              "      <td>0.0</td>\n",
              "      <td>0.0</td>\n",
              "      <td>0.0</td>\n",
              "      <td>0.0</td>\n",
              "      <td>0.0</td>\n",
              "    </tr>\n",
              "    <tr>\n",
              "      <th>1</th>\n",
              "      <td>0.192593</td>\n",
              "      <td>0.097133</td>\n",
              "      <td>2.5</td>\n",
              "      <td>-0.305949</td>\n",
              "      <td>0.0</td>\n",
              "      <td>0.0</td>\n",
              "      <td>1.0</td>\n",
              "      <td>0.0</td>\n",
              "      <td>0.0</td>\n",
              "      <td>0.0</td>\n",
              "      <td>0.0</td>\n",
              "      <td>0.0</td>\n",
              "      <td>0.0</td>\n",
              "      <td>0.0</td>\n",
              "      <td>0.0</td>\n",
              "      <td>0.0</td>\n",
              "      <td>0.0</td>\n",
              "      <td>0.0</td>\n",
              "      <td>0.0</td>\n",
              "      <td>0.0</td>\n",
              "      <td>0.0</td>\n",
              "      <td>0.0</td>\n",
              "      <td>0.0</td>\n",
              "      <td>0.0</td>\n",
              "      <td>1.0</td>\n",
              "      <td>0.0</td>\n",
              "      <td>0.0</td>\n",
              "      <td>0.0</td>\n",
              "      <td>0.0</td>\n",
              "      <td>0.0</td>\n",
              "      <td>0.0</td>\n",
              "      <td>0.0</td>\n",
              "      <td>0.0</td>\n",
              "      <td>0.0</td>\n",
              "      <td>0.0</td>\n",
              "      <td>0.0</td>\n",
              "      <td>0.0</td>\n",
              "      <td>0.0</td>\n",
              "      <td>0.0</td>\n",
              "      <td>0.0</td>\n",
              "      <td>...</td>\n",
              "      <td>0.0</td>\n",
              "      <td>0.0</td>\n",
              "      <td>0.0</td>\n",
              "      <td>0.0</td>\n",
              "      <td>0.0</td>\n",
              "      <td>0.0</td>\n",
              "      <td>0.0</td>\n",
              "      <td>0.0</td>\n",
              "      <td>0.0</td>\n",
              "      <td>0.0</td>\n",
              "      <td>0.0</td>\n",
              "      <td>0.0</td>\n",
              "      <td>0.0</td>\n",
              "      <td>0.0</td>\n",
              "      <td>0.0</td>\n",
              "      <td>0.0</td>\n",
              "      <td>0.0</td>\n",
              "      <td>0.0</td>\n",
              "      <td>0.0</td>\n",
              "      <td>0.0</td>\n",
              "      <td>0.0</td>\n",
              "      <td>0.0</td>\n",
              "      <td>0.0</td>\n",
              "      <td>0.0</td>\n",
              "      <td>0.0</td>\n",
              "      <td>0.0</td>\n",
              "      <td>0.0</td>\n",
              "      <td>0.0</td>\n",
              "      <td>0.0</td>\n",
              "      <td>0.0</td>\n",
              "      <td>0.0</td>\n",
              "      <td>0.0</td>\n",
              "      <td>0.0</td>\n",
              "      <td>0.0</td>\n",
              "      <td>0.0</td>\n",
              "      <td>0.0</td>\n",
              "      <td>0.0</td>\n",
              "      <td>0.0</td>\n",
              "      <td>0.0</td>\n",
              "      <td>0.0</td>\n",
              "    </tr>\n",
              "    <tr>\n",
              "      <th>2</th>\n",
              "      <td>-0.455556</td>\n",
              "      <td>0.097133</td>\n",
              "      <td>0.0</td>\n",
              "      <td>-0.532578</td>\n",
              "      <td>0.0</td>\n",
              "      <td>1.0</td>\n",
              "      <td>0.0</td>\n",
              "      <td>0.0</td>\n",
              "      <td>0.0</td>\n",
              "      <td>0.0</td>\n",
              "      <td>0.0</td>\n",
              "      <td>0.0</td>\n",
              "      <td>0.0</td>\n",
              "      <td>0.0</td>\n",
              "      <td>0.0</td>\n",
              "      <td>0.0</td>\n",
              "      <td>0.0</td>\n",
              "      <td>0.0</td>\n",
              "      <td>0.0</td>\n",
              "      <td>0.0</td>\n",
              "      <td>0.0</td>\n",
              "      <td>0.0</td>\n",
              "      <td>0.0</td>\n",
              "      <td>0.0</td>\n",
              "      <td>1.0</td>\n",
              "      <td>0.0</td>\n",
              "      <td>0.0</td>\n",
              "      <td>0.0</td>\n",
              "      <td>0.0</td>\n",
              "      <td>0.0</td>\n",
              "      <td>0.0</td>\n",
              "      <td>0.0</td>\n",
              "      <td>0.0</td>\n",
              "      <td>0.0</td>\n",
              "      <td>0.0</td>\n",
              "      <td>0.0</td>\n",
              "      <td>0.0</td>\n",
              "      <td>0.0</td>\n",
              "      <td>0.0</td>\n",
              "      <td>0.0</td>\n",
              "      <td>...</td>\n",
              "      <td>0.0</td>\n",
              "      <td>0.0</td>\n",
              "      <td>0.0</td>\n",
              "      <td>0.0</td>\n",
              "      <td>0.0</td>\n",
              "      <td>0.0</td>\n",
              "      <td>0.0</td>\n",
              "      <td>0.0</td>\n",
              "      <td>0.0</td>\n",
              "      <td>0.0</td>\n",
              "      <td>0.0</td>\n",
              "      <td>0.0</td>\n",
              "      <td>0.0</td>\n",
              "      <td>0.0</td>\n",
              "      <td>0.0</td>\n",
              "      <td>0.0</td>\n",
              "      <td>0.0</td>\n",
              "      <td>0.0</td>\n",
              "      <td>0.0</td>\n",
              "      <td>0.0</td>\n",
              "      <td>0.0</td>\n",
              "      <td>0.0</td>\n",
              "      <td>0.0</td>\n",
              "      <td>0.0</td>\n",
              "      <td>0.0</td>\n",
              "      <td>0.0</td>\n",
              "      <td>0.0</td>\n",
              "      <td>0.0</td>\n",
              "      <td>0.0</td>\n",
              "      <td>0.0</td>\n",
              "      <td>0.0</td>\n",
              "      <td>0.0</td>\n",
              "      <td>0.0</td>\n",
              "      <td>0.0</td>\n",
              "      <td>0.0</td>\n",
              "      <td>0.0</td>\n",
              "      <td>0.0</td>\n",
              "      <td>0.0</td>\n",
              "      <td>0.0</td>\n",
              "      <td>0.0</td>\n",
              "    </tr>\n",
              "    <tr>\n",
              "      <th>3</th>\n",
              "      <td>0.492593</td>\n",
              "      <td>0.097133</td>\n",
              "      <td>2.5</td>\n",
              "      <td>-0.212465</td>\n",
              "      <td>1.0</td>\n",
              "      <td>0.0</td>\n",
              "      <td>0.0</td>\n",
              "      <td>0.0</td>\n",
              "      <td>0.0</td>\n",
              "      <td>0.0</td>\n",
              "      <td>0.0</td>\n",
              "      <td>0.0</td>\n",
              "      <td>0.0</td>\n",
              "      <td>0.0</td>\n",
              "      <td>0.0</td>\n",
              "      <td>0.0</td>\n",
              "      <td>0.0</td>\n",
              "      <td>0.0</td>\n",
              "      <td>0.0</td>\n",
              "      <td>0.0</td>\n",
              "      <td>0.0</td>\n",
              "      <td>0.0</td>\n",
              "      <td>0.0</td>\n",
              "      <td>0.0</td>\n",
              "      <td>1.0</td>\n",
              "      <td>0.0</td>\n",
              "      <td>0.0</td>\n",
              "      <td>0.0</td>\n",
              "      <td>0.0</td>\n",
              "      <td>0.0</td>\n",
              "      <td>0.0</td>\n",
              "      <td>0.0</td>\n",
              "      <td>0.0</td>\n",
              "      <td>0.0</td>\n",
              "      <td>0.0</td>\n",
              "      <td>0.0</td>\n",
              "      <td>0.0</td>\n",
              "      <td>0.0</td>\n",
              "      <td>0.0</td>\n",
              "      <td>0.0</td>\n",
              "      <td>...</td>\n",
              "      <td>0.0</td>\n",
              "      <td>0.0</td>\n",
              "      <td>0.0</td>\n",
              "      <td>0.0</td>\n",
              "      <td>0.0</td>\n",
              "      <td>0.0</td>\n",
              "      <td>0.0</td>\n",
              "      <td>0.0</td>\n",
              "      <td>0.0</td>\n",
              "      <td>0.0</td>\n",
              "      <td>0.0</td>\n",
              "      <td>0.0</td>\n",
              "      <td>0.0</td>\n",
              "      <td>0.0</td>\n",
              "      <td>0.0</td>\n",
              "      <td>0.0</td>\n",
              "      <td>0.0</td>\n",
              "      <td>0.0</td>\n",
              "      <td>0.0</td>\n",
              "      <td>0.0</td>\n",
              "      <td>0.0</td>\n",
              "      <td>0.0</td>\n",
              "      <td>0.0</td>\n",
              "      <td>0.0</td>\n",
              "      <td>0.0</td>\n",
              "      <td>0.0</td>\n",
              "      <td>0.0</td>\n",
              "      <td>0.0</td>\n",
              "      <td>0.0</td>\n",
              "      <td>0.0</td>\n",
              "      <td>0.0</td>\n",
              "      <td>0.0</td>\n",
              "      <td>0.0</td>\n",
              "      <td>0.0</td>\n",
              "      <td>0.0</td>\n",
              "      <td>0.0</td>\n",
              "      <td>0.0</td>\n",
              "      <td>0.0</td>\n",
              "      <td>0.0</td>\n",
              "      <td>0.0</td>\n",
              "    </tr>\n",
              "    <tr>\n",
              "      <th>4</th>\n",
              "      <td>2.585185</td>\n",
              "      <td>-0.529549</td>\n",
              "      <td>2.0</td>\n",
              "      <td>3.533994</td>\n",
              "      <td>0.0</td>\n",
              "      <td>1.0</td>\n",
              "      <td>0.0</td>\n",
              "      <td>0.0</td>\n",
              "      <td>0.0</td>\n",
              "      <td>0.0</td>\n",
              "      <td>0.0</td>\n",
              "      <td>0.0</td>\n",
              "      <td>0.0</td>\n",
              "      <td>0.0</td>\n",
              "      <td>0.0</td>\n",
              "      <td>0.0</td>\n",
              "      <td>0.0</td>\n",
              "      <td>0.0</td>\n",
              "      <td>0.0</td>\n",
              "      <td>0.0</td>\n",
              "      <td>0.0</td>\n",
              "      <td>0.0</td>\n",
              "      <td>0.0</td>\n",
              "      <td>0.0</td>\n",
              "      <td>0.0</td>\n",
              "      <td>0.0</td>\n",
              "      <td>0.0</td>\n",
              "      <td>1.0</td>\n",
              "      <td>0.0</td>\n",
              "      <td>0.0</td>\n",
              "      <td>0.0</td>\n",
              "      <td>0.0</td>\n",
              "      <td>0.0</td>\n",
              "      <td>0.0</td>\n",
              "      <td>0.0</td>\n",
              "      <td>0.0</td>\n",
              "      <td>0.0</td>\n",
              "      <td>0.0</td>\n",
              "      <td>0.0</td>\n",
              "      <td>0.0</td>\n",
              "      <td>...</td>\n",
              "      <td>0.0</td>\n",
              "      <td>0.0</td>\n",
              "      <td>0.0</td>\n",
              "      <td>0.0</td>\n",
              "      <td>0.0</td>\n",
              "      <td>0.0</td>\n",
              "      <td>0.0</td>\n",
              "      <td>0.0</td>\n",
              "      <td>0.0</td>\n",
              "      <td>0.0</td>\n",
              "      <td>0.0</td>\n",
              "      <td>0.0</td>\n",
              "      <td>0.0</td>\n",
              "      <td>0.0</td>\n",
              "      <td>0.0</td>\n",
              "      <td>0.0</td>\n",
              "      <td>0.0</td>\n",
              "      <td>0.0</td>\n",
              "      <td>0.0</td>\n",
              "      <td>0.0</td>\n",
              "      <td>0.0</td>\n",
              "      <td>0.0</td>\n",
              "      <td>0.0</td>\n",
              "      <td>0.0</td>\n",
              "      <td>0.0</td>\n",
              "      <td>0.0</td>\n",
              "      <td>0.0</td>\n",
              "      <td>0.0</td>\n",
              "      <td>0.0</td>\n",
              "      <td>0.0</td>\n",
              "      <td>0.0</td>\n",
              "      <td>0.0</td>\n",
              "      <td>0.0</td>\n",
              "      <td>0.0</td>\n",
              "      <td>0.0</td>\n",
              "      <td>0.0</td>\n",
              "      <td>0.0</td>\n",
              "      <td>0.0</td>\n",
              "      <td>0.0</td>\n",
              "      <td>0.0</td>\n",
              "    </tr>\n",
              "  </tbody>\n",
              "</table>\n",
              "<p>5 rows × 116 columns</p>\n",
              "</div>\n",
              "      <button class=\"colab-df-convert\" onclick=\"convertToInteractive('df-2b1281f0-d88f-45d1-8be0-535635072469')\"\n",
              "              title=\"Convert this dataframe to an interactive table.\"\n",
              "              style=\"display:none;\">\n",
              "        \n",
              "  <svg xmlns=\"http://www.w3.org/2000/svg\" height=\"24px\"viewBox=\"0 0 24 24\"\n",
              "       width=\"24px\">\n",
              "    <path d=\"M0 0h24v24H0V0z\" fill=\"none\"/>\n",
              "    <path d=\"M18.56 5.44l.94 2.06.94-2.06 2.06-.94-2.06-.94-.94-2.06-.94 2.06-2.06.94zm-11 1L8.5 8.5l.94-2.06 2.06-.94-2.06-.94L8.5 2.5l-.94 2.06-2.06.94zm10 10l.94 2.06.94-2.06 2.06-.94-2.06-.94-.94-2.06-.94 2.06-2.06.94z\"/><path d=\"M17.41 7.96l-1.37-1.37c-.4-.4-.92-.59-1.43-.59-.52 0-1.04.2-1.43.59L10.3 9.45l-7.72 7.72c-.78.78-.78 2.05 0 2.83L4 21.41c.39.39.9.59 1.41.59.51 0 1.02-.2 1.41-.59l7.78-7.78 2.81-2.81c.8-.78.8-2.07 0-2.86zM5.41 20L4 18.59l7.72-7.72 1.47 1.35L5.41 20z\"/>\n",
              "  </svg>\n",
              "      </button>\n",
              "      \n",
              "  <style>\n",
              "    .colab-df-container {\n",
              "      display:flex;\n",
              "      flex-wrap:wrap;\n",
              "      gap: 12px;\n",
              "    }\n",
              "\n",
              "    .colab-df-convert {\n",
              "      background-color: #E8F0FE;\n",
              "      border: none;\n",
              "      border-radius: 50%;\n",
              "      cursor: pointer;\n",
              "      display: none;\n",
              "      fill: #1967D2;\n",
              "      height: 32px;\n",
              "      padding: 0 0 0 0;\n",
              "      width: 32px;\n",
              "    }\n",
              "\n",
              "    .colab-df-convert:hover {\n",
              "      background-color: #E2EBFA;\n",
              "      box-shadow: 0px 1px 2px rgba(60, 64, 67, 0.3), 0px 1px 3px 1px rgba(60, 64, 67, 0.15);\n",
              "      fill: #174EA6;\n",
              "    }\n",
              "\n",
              "    [theme=dark] .colab-df-convert {\n",
              "      background-color: #3B4455;\n",
              "      fill: #D2E3FC;\n",
              "    }\n",
              "\n",
              "    [theme=dark] .colab-df-convert:hover {\n",
              "      background-color: #434B5C;\n",
              "      box-shadow: 0px 1px 3px 1px rgba(0, 0, 0, 0.15);\n",
              "      filter: drop-shadow(0px 1px 2px rgba(0, 0, 0, 0.3));\n",
              "      fill: #FFFFFF;\n",
              "    }\n",
              "  </style>\n",
              "\n",
              "      <script>\n",
              "        const buttonEl =\n",
              "          document.querySelector('#df-2b1281f0-d88f-45d1-8be0-535635072469 button.colab-df-convert');\n",
              "        buttonEl.style.display =\n",
              "          google.colab.kernel.accessAllowed ? 'block' : 'none';\n",
              "\n",
              "        async function convertToInteractive(key) {\n",
              "          const element = document.querySelector('#df-2b1281f0-d88f-45d1-8be0-535635072469');\n",
              "          const dataTable =\n",
              "            await google.colab.kernel.invokeFunction('convertToInteractive',\n",
              "                                                     [key], {});\n",
              "          if (!dataTable) return;\n",
              "\n",
              "          const docLinkHtml = 'Like what you see? Visit the ' +\n",
              "            '<a target=\"_blank\" href=https://colab.research.google.com/notebooks/data_table.ipynb>data table notebook</a>'\n",
              "            + ' to learn more about interactive tables.';\n",
              "          element.innerHTML = '';\n",
              "          dataTable['output_type'] = 'display_data';\n",
              "          await google.colab.output.renderOutput(dataTable, element);\n",
              "          const docLink = document.createElement('div');\n",
              "          docLink.innerHTML = docLinkHtml;\n",
              "          element.appendChild(docLink);\n",
              "        }\n",
              "      </script>\n",
              "    </div>\n",
              "  </div>\n",
              "  "
            ],
            "text/plain": [
              "        0         1    2         3    4    5    ...  110  111  112  113  114  115\n",
              "0  2.851852  0.097133 -0.5  7.650142  0.0  1.0  ...  0.0  0.0  0.0  0.0  0.0  0.0\n",
              "1  0.192593  0.097133  2.5 -0.305949  0.0  0.0  ...  0.0  0.0  0.0  0.0  0.0  0.0\n",
              "2 -0.455556  0.097133  0.0 -0.532578  0.0  1.0  ...  0.0  0.0  0.0  0.0  0.0  0.0\n",
              "3  0.492593  0.097133  2.5 -0.212465  1.0  0.0  ...  0.0  0.0  0.0  0.0  0.0  0.0\n",
              "4  2.585185 -0.529549  2.0  3.533994  0.0  1.0  ...  0.0  0.0  0.0  0.0  0.0  0.0\n",
              "\n",
              "[5 rows x 116 columns]"
            ]
          },
          "metadata": {},
          "execution_count": 195
        }
      ]
    },
    {
      "cell_type": "code",
      "source": [
        "kf= KFold(n_splits = 5, shuffle = True, random_state = 27)\n",
        "random_forest = RandomForestRegressor(n_estimators=100, criterion='squared_error', max_depth=20, min_samples_split=2)\n",
        "cv_score = cross_val_score(random_forest, X_train, y_train, scoring='r2', cv=kf)\n",
        "cv_score"
      ],
      "metadata": {
        "colab": {
          "base_uri": "https://localhost:8080/"
        },
        "id": "5Fhtgz7B2Y98",
        "outputId": "160efcd9-3edd-4d99-cf12-849dfec5d488"
      },
      "execution_count": null,
      "outputs": [
        {
          "output_type": "execute_result",
          "data": {
            "text/plain": [
              "array([-0.0209017 , -0.07528681, -0.07066732, -0.04157089, -0.03210499])"
            ]
          },
          "metadata": {},
          "execution_count": 197
        }
      ]
    },
    {
      "cell_type": "code",
      "source": [
        "random_forest.fit(X_train, y_train)\n",
        "predi= random_forest.predict(X_test)\n",
        "mae = metrics.mean_absolute_error(y_test, predi)\n",
        "mse = metrics.mean_squared_error(y_test, predi)\n",
        "rmse = np.sqrt(metrics.mean_squared_error(y_test, predi))\n",
        "r2 = metrics.r2_score(y_test, predi)\n",
        "\n",
        "print('MAE (Mean-Absolute-Error): %s' %mae)\n",
        "print('MSE (Mean-Squared-Error): %s' %mse)\n",
        "print('RMSE (Root-MSE): %s' %rmse)\n",
        "print('R2 score: %s' %r2)"
      ],
      "metadata": {
        "colab": {
          "base_uri": "https://localhost:8080/"
        },
        "id": "m7CxZcw72cYV",
        "outputId": "b62a44ad-e5fb-43d5-e278-910d796d289f"
      },
      "execution_count": null,
      "outputs": [
        {
          "output_type": "stream",
          "name": "stdout",
          "text": [
            "MAE (Mean-Absolute-Error): 671.2496571071515\n",
            "MSE (Mean-Squared-Error): 2104863.390928735\n",
            "RMSE (Root-MSE): 1450.8147334958846\n",
            "R2 score: -0.04516916090460832\n"
          ]
        }
      ]
    }
  ]
}